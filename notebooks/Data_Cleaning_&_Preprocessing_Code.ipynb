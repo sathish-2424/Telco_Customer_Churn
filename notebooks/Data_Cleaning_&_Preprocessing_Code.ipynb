{
  "nbformat": 4,
  "nbformat_minor": 0,
  "metadata": {
    "colab": {
      "provenance": []
    },
    "kernelspec": {
      "name": "python3",
      "display_name": "Python 3"
    },
    "language_info": {
      "name": "python"
    }
  },
  "cells": [
    {
      "cell_type": "code",
      "execution_count": 1,
      "metadata": {
        "id": "B_4OC_kcvvcT"
      },
      "outputs": [],
      "source": [
        "import pandas as pd\n",
        "import numpy as np"
      ]
    },
    {
      "cell_type": "markdown",
      "source": [
        "# 1. Load data (adjust filename if needed)"
      ],
      "metadata": {
        "id": "KsiYeuocwDcz"
      }
    },
    {
      "cell_type": "code",
      "source": [
        "df = pd.read_csv('WA_Fn-UseC_-Telco-Customer-Churn.csv')"
      ],
      "metadata": {
        "id": "Hd3GsoFpwEiz"
      },
      "execution_count": 2,
      "outputs": []
    },
    {
      "cell_type": "markdown",
      "source": [
        "# 2. Quick preview & types"
      ],
      "metadata": {
        "id": "Rt4Gcfr3wUzx"
      }
    },
    {
      "cell_type": "code",
      "source": [
        "print(df.shape)\n",
        "print(df.info())\n",
        "print(df.head())"
      ],
      "metadata": {
        "colab": {
          "base_uri": "https://localhost:8080/"
        },
        "collapsed": true,
        "id": "JW0a3KOGwVxy",
        "outputId": "3a2ab3ba-c499-4596-8420-7369620ad1e9"
      },
      "execution_count": 3,
      "outputs": [
        {
          "output_type": "stream",
          "name": "stdout",
          "text": [
            "(7043, 21)\n",
            "<class 'pandas.core.frame.DataFrame'>\n",
            "RangeIndex: 7043 entries, 0 to 7042\n",
            "Data columns (total 21 columns):\n",
            " #   Column            Non-Null Count  Dtype  \n",
            "---  ------            --------------  -----  \n",
            " 0   customerID        7043 non-null   object \n",
            " 1   gender            7043 non-null   object \n",
            " 2   SeniorCitizen     7043 non-null   int64  \n",
            " 3   Partner           7043 non-null   object \n",
            " 4   Dependents        7043 non-null   object \n",
            " 5   tenure            7043 non-null   int64  \n",
            " 6   PhoneService      7043 non-null   object \n",
            " 7   MultipleLines     7043 non-null   object \n",
            " 8   InternetService   7043 non-null   object \n",
            " 9   OnlineSecurity    7043 non-null   object \n",
            " 10  OnlineBackup      7043 non-null   object \n",
            " 11  DeviceProtection  7043 non-null   object \n",
            " 12  TechSupport       7043 non-null   object \n",
            " 13  StreamingTV       7043 non-null   object \n",
            " 14  StreamingMovies   7043 non-null   object \n",
            " 15  Contract          7043 non-null   object \n",
            " 16  PaperlessBilling  7043 non-null   object \n",
            " 17  PaymentMethod     7043 non-null   object \n",
            " 18  MonthlyCharges    7043 non-null   float64\n",
            " 19  TotalCharges      7043 non-null   object \n",
            " 20  Churn             7043 non-null   object \n",
            "dtypes: float64(1), int64(2), object(18)\n",
            "memory usage: 1.1+ MB\n",
            "None\n",
            "   customerID  gender  SeniorCitizen Partner Dependents  tenure PhoneService  \\\n",
            "0  7590-VHVEG  Female              0     Yes         No       1           No   \n",
            "1  5575-GNVDE    Male              0      No         No      34          Yes   \n",
            "2  3668-QPYBK    Male              0      No         No       2          Yes   \n",
            "3  7795-CFOCW    Male              0      No         No      45           No   \n",
            "4  9237-HQITU  Female              0      No         No       2          Yes   \n",
            "\n",
            "      MultipleLines InternetService OnlineSecurity  ... DeviceProtection  \\\n",
            "0  No phone service             DSL             No  ...               No   \n",
            "1                No             DSL            Yes  ...              Yes   \n",
            "2                No             DSL            Yes  ...               No   \n",
            "3  No phone service             DSL            Yes  ...              Yes   \n",
            "4                No     Fiber optic             No  ...               No   \n",
            "\n",
            "  TechSupport StreamingTV StreamingMovies        Contract PaperlessBilling  \\\n",
            "0          No          No              No  Month-to-month              Yes   \n",
            "1          No          No              No        One year               No   \n",
            "2          No          No              No  Month-to-month              Yes   \n",
            "3         Yes          No              No        One year               No   \n",
            "4          No          No              No  Month-to-month              Yes   \n",
            "\n",
            "               PaymentMethod MonthlyCharges  TotalCharges Churn  \n",
            "0           Electronic check          29.85         29.85    No  \n",
            "1               Mailed check          56.95        1889.5    No  \n",
            "2               Mailed check          53.85        108.15   Yes  \n",
            "3  Bank transfer (automatic)          42.30       1840.75    No  \n",
            "4           Electronic check          70.70        151.65   Yes  \n",
            "\n",
            "[5 rows x 21 columns]\n"
          ]
        }
      ]
    },
    {
      "cell_type": "markdown",
      "source": [
        "# 3. Remove duplicates"
      ],
      "metadata": {
        "id": "FcNxK6Z-wkte"
      }
    },
    {
      "cell_type": "code",
      "source": [
        "df = df.drop_duplicates()"
      ],
      "metadata": {
        "id": "RhlAGI2fwlk5"
      },
      "execution_count": 4,
      "outputs": []
    },
    {
      "cell_type": "markdown",
      "source": [
        "# 4. Handle missing and blank values"
      ],
      "metadata": {
        "id": "eTmp_gFqww5a"
      }
    },
    {
      "cell_type": "code",
      "source": [
        "# 'TotalCharges' can have blank/space values, convert to NaN then to float\n",
        "df['TotalCharges'] = pd.to_numeric(df['TotalCharges'], errors='coerce')\n",
        "print('Missing TotalCharges:', df['TotalCharges'].isna().sum())"
      ],
      "metadata": {
        "colab": {
          "base_uri": "https://localhost:8080/"
        },
        "id": "o9im82u7wx20",
        "outputId": "d4e6542d-aa64-4465-d020-346d7a38c455"
      },
      "execution_count": 5,
      "outputs": [
        {
          "output_type": "stream",
          "name": "stdout",
          "text": [
            "Missing TotalCharges: 11\n"
          ]
        }
      ]
    },
    {
      "cell_type": "code",
      "source": [
        "# In this dataset, NaN in TotalCharges always happen where tenure==0 (brand new customers)\n",
        "df = df[df['TotalCharges'].notna()]\n",
        "df['TotalCharges'] = df['TotalCharges'].astype(float)"
      ],
      "metadata": {
        "colab": {
          "base_uri": "https://localhost:8080/"
        },
        "id": "RaAinlfkw5tz",
        "outputId": "545e1781-0f02-42dd-e4f0-65105c3ddddf"
      },
      "execution_count": 6,
      "outputs": [
        {
          "output_type": "stream",
          "name": "stderr",
          "text": [
            "/tmp/ipython-input-4073020532.py:3: SettingWithCopyWarning: \n",
            "A value is trying to be set on a copy of a slice from a DataFrame.\n",
            "Try using .loc[row_indexer,col_indexer] = value instead\n",
            "\n",
            "See the caveats in the documentation: https://pandas.pydata.org/pandas-docs/stable/user_guide/indexing.html#returning-a-view-versus-a-copy\n",
            "  df['TotalCharges'] = df['TotalCharges'].astype(float)\n"
          ]
        }
      ]
    },
    {
      "cell_type": "markdown",
      "source": [
        "\n",
        "# 5. Convert integer flags to categorical (optional, for consistency)"
      ],
      "metadata": {
        "id": "T5b4rbSxxELk"
      }
    },
    {
      "cell_type": "code",
      "source": [
        "df['SeniorCitizen'] = df['SeniorCitizen'].replace({1: 'Yes', 0: 'No'})"
      ],
      "metadata": {
        "id": "LwkTz0I4xFx6"
      },
      "execution_count": 7,
      "outputs": []
    },
    {
      "cell_type": "markdown",
      "source": [
        "# 6. Clean categorical columns"
      ],
      "metadata": {
        "id": "l2GfmGhmxNLq"
      }
    },
    {
      "cell_type": "code",
      "source": [
        "# Replace \"No internet service\" and \"No phone service\" with \"No\" for simplicity\n",
        "no_internet_cols = [\n",
        "    'OnlineSecurity', 'OnlineBackup', 'DeviceProtection',\n",
        "    'TechSupport', 'StreamingTV', 'StreamingMovies'\n",
        "]\n",
        "for col in no_internet_cols:\n",
        "    df[col] = df[col].replace({'No internet service': 'No'})\n",
        "df['MultipleLines'] = df['MultipleLines'].replace({'No phone service': 'No'})"
      ],
      "metadata": {
        "id": "uwmcJjq9xOGv"
      },
      "execution_count": 8,
      "outputs": []
    },
    {
      "cell_type": "markdown",
      "source": [
        "# 7. Encode categorical variables (One-hot encoding, but first drop customerID)"
      ],
      "metadata": {
        "id": "27_e-djmxWwt"
      }
    },
    {
      "cell_type": "code",
      "source": [
        "X = df.drop(['customerID', 'Churn'], axis=1)\n",
        "y = df['Churn'].map({'No': 0, 'Yes': 1})"
      ],
      "metadata": {
        "id": "2GhO3sKExX05"
      },
      "execution_count": 9,
      "outputs": []
    },
    {
      "cell_type": "code",
      "source": [
        "# List of categorical columns\n",
        "cat_cols = X.select_dtypes('object').columns.tolist()\n",
        "# Get dummies (drop_first=True to avoid redundant columns)\n",
        "X = pd.get_dummies(X, columns=cat_cols, drop_first=True)"
      ],
      "metadata": {
        "id": "RKVvAQHixkpM"
      },
      "execution_count": 10,
      "outputs": []
    },
    {
      "cell_type": "markdown",
      "source": [
        "# 8. (Optional) Remove outliers in numeric columns (tenure, MonthlyCharges, TotalCharges)"
      ],
      "metadata": {
        "id": "kIJCDzP_xomV"
      }
    },
    {
      "cell_type": "code",
      "source": [
        "for col in ['tenure', 'MonthlyCharges', 'TotalCharges']:\n",
        "    upper = X[col].quantile(0.99)\n",
        "    X = X[X[col] <= upper]"
      ],
      "metadata": {
        "id": "C2sl7Q_kxp7C"
      },
      "execution_count": 11,
      "outputs": []
    },
    {
      "cell_type": "code",
      "source": [
        "# Align y index (if rows dropped due to outliers)\n",
        "y = y.loc[X.index]"
      ],
      "metadata": {
        "id": "h5CZ5hB6xu73"
      },
      "execution_count": 12,
      "outputs": []
    },
    {
      "cell_type": "markdown",
      "source": [
        "# 9. Final cleaned data check"
      ],
      "metadata": {
        "id": "jlpoDtFxxzLA"
      }
    },
    {
      "cell_type": "code",
      "source": [
        "print(X.shape)\n",
        "print(y.value_counts())\n",
        "print(X.info())\n",
        "print(X.head())"
      ],
      "metadata": {
        "colab": {
          "base_uri": "https://localhost:8080/"
        },
        "id": "okXSyawUx0Mk",
        "outputId": "715aff13-1ae8-49b8-eba8-d1dc99e8eb0c"
      },
      "execution_count": 13,
      "outputs": [
        {
          "output_type": "stream",
          "name": "stdout",
          "text": [
            "(6891, 23)\n",
            "Churn\n",
            "0    5030\n",
            "1    1861\n",
            "Name: count, dtype: int64\n",
            "<class 'pandas.core.frame.DataFrame'>\n",
            "Index: 6891 entries, 0 to 7042\n",
            "Data columns (total 23 columns):\n",
            " #   Column                                 Non-Null Count  Dtype  \n",
            "---  ------                                 --------------  -----  \n",
            " 0   tenure                                 6891 non-null   int64  \n",
            " 1   MonthlyCharges                         6891 non-null   float64\n",
            " 2   TotalCharges                           6891 non-null   float64\n",
            " 3   gender_Male                            6891 non-null   bool   \n",
            " 4   SeniorCitizen_Yes                      6891 non-null   bool   \n",
            " 5   Partner_Yes                            6891 non-null   bool   \n",
            " 6   Dependents_Yes                         6891 non-null   bool   \n",
            " 7   PhoneService_Yes                       6891 non-null   bool   \n",
            " 8   MultipleLines_Yes                      6891 non-null   bool   \n",
            " 9   InternetService_Fiber optic            6891 non-null   bool   \n",
            " 10  InternetService_No                     6891 non-null   bool   \n",
            " 11  OnlineSecurity_Yes                     6891 non-null   bool   \n",
            " 12  OnlineBackup_Yes                       6891 non-null   bool   \n",
            " 13  DeviceProtection_Yes                   6891 non-null   bool   \n",
            " 14  TechSupport_Yes                        6891 non-null   bool   \n",
            " 15  StreamingTV_Yes                        6891 non-null   bool   \n",
            " 16  StreamingMovies_Yes                    6891 non-null   bool   \n",
            " 17  Contract_One year                      6891 non-null   bool   \n",
            " 18  Contract_Two year                      6891 non-null   bool   \n",
            " 19  PaperlessBilling_Yes                   6891 non-null   bool   \n",
            " 20  PaymentMethod_Credit card (automatic)  6891 non-null   bool   \n",
            " 21  PaymentMethod_Electronic check         6891 non-null   bool   \n",
            " 22  PaymentMethod_Mailed check             6891 non-null   bool   \n",
            "dtypes: bool(20), float64(2), int64(1)\n",
            "memory usage: 349.9 KB\n",
            "None\n",
            "   tenure  MonthlyCharges  TotalCharges  gender_Male  SeniorCitizen_Yes  \\\n",
            "0       1           29.85         29.85        False              False   \n",
            "1      34           56.95       1889.50         True              False   \n",
            "2       2           53.85        108.15         True              False   \n",
            "3      45           42.30       1840.75         True              False   \n",
            "4       2           70.70        151.65        False              False   \n",
            "\n",
            "   Partner_Yes  Dependents_Yes  PhoneService_Yes  MultipleLines_Yes  \\\n",
            "0         True           False             False              False   \n",
            "1        False           False              True              False   \n",
            "2        False           False              True              False   \n",
            "3        False           False             False              False   \n",
            "4        False           False              True              False   \n",
            "\n",
            "   InternetService_Fiber optic  ...  DeviceProtection_Yes  TechSupport_Yes  \\\n",
            "0                        False  ...                 False            False   \n",
            "1                        False  ...                  True            False   \n",
            "2                        False  ...                 False            False   \n",
            "3                        False  ...                  True             True   \n",
            "4                         True  ...                 False            False   \n",
            "\n",
            "   StreamingTV_Yes  StreamingMovies_Yes  Contract_One year  Contract_Two year  \\\n",
            "0            False                False              False              False   \n",
            "1            False                False               True              False   \n",
            "2            False                False              False              False   \n",
            "3            False                False               True              False   \n",
            "4            False                False              False              False   \n",
            "\n",
            "   PaperlessBilling_Yes  PaymentMethod_Credit card (automatic)  \\\n",
            "0                  True                                  False   \n",
            "1                 False                                  False   \n",
            "2                  True                                  False   \n",
            "3                 False                                  False   \n",
            "4                  True                                  False   \n",
            "\n",
            "   PaymentMethod_Electronic check  PaymentMethod_Mailed check  \n",
            "0                            True                       False  \n",
            "1                           False                        True  \n",
            "2                           False                        True  \n",
            "3                           False                       False  \n",
            "4                            True                       False  \n",
            "\n",
            "[5 rows x 23 columns]\n"
          ]
        }
      ]
    },
    {
      "cell_type": "markdown",
      "source": [
        "# 10. Save cleaned dataset (features + target)"
      ],
      "metadata": {
        "id": "0PU3vjOox-4-"
      }
    },
    {
      "cell_type": "code",
      "source": [
        "cleaned_data = X.copy()\n",
        "cleaned_data['Churn'] = y  # Add target column\n",
        "cleaned_data.to_csv('telco_churn_cleaned.csv', index=False)"
      ],
      "metadata": {
        "id": "W7--l8rdx_sP"
      },
      "execution_count": 14,
      "outputs": []
    }
  ]
}